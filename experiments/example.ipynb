{
 "cells": [
  {
   "cell_type": "markdown",
   "metadata": {
    "collapsed": false,
    "jupyter": {
     "outputs_hidden": false
    },
    "pycharm": {
     "name": "#%% md\n"
    }
   },
   "source": [
    "## TRUST: OrderSPN Learning\n",
    "\n",
    "TRUST is a Bayesian structure learning method that approximately infers a posterior over Bayesian network structures\n",
    "given data. The posterior distribution over graphs (structures) is represented as an OrderSPN, which is a variant of\n",
    "the sum-product network (SPN) for distributions over orderings/graphs. \n",
    "\n",
    "The distinguishing feature of OrderSPNs is their\n",
    "ability to perform tractable *exact* inference for a number of useful queries, such as the marginal probability of an\n",
    "edge, or the Bayesian model averaged causal effect."
   ]
  },
  {
   "cell_type": "code",
   "execution_count": 1,
   "metadata": {
    "collapsed": false,
    "jupyter": {
     "outputs_hidden": false
    },
    "pycharm": {
     "name": "#%%\n"
    }
   },
   "outputs": [
    {
     "name": "stderr",
     "output_type": "stream",
     "text": [
      "/home/benjiewang/.cache/pypoetry/virtualenvs/trust-sl3-S6Vm4uZr-py3.10/lib/python3.10/site-packages/pygam/pygam.py:225: SyntaxWarning: \"is not\" with a literal. Did you mean \"!=\"?\n",
      "  if (self.terms is not 'auto') and not (isinstance(self.terms, (TermList, Term, type(None)))):\n",
      "/home/benjiewang/.cache/pypoetry/virtualenvs/trust-sl3-S6Vm4uZr-py3.10/lib/python3.10/site-packages/pygam/pygam.py:276: SyntaxWarning: \"is\" with a literal. Did you mean \"==\"?\n",
      "  if self.terms is 'auto':\n",
      "/home/benjiewang/.cache/pypoetry/virtualenvs/trust-sl3-S6Vm4uZr-py3.10/lib/python3.10/site-packages/pygam/core.py:57: SyntaxWarning: \"is not\" with a literal. Did you mean \"!=\"?\n",
      "  if flatten_attrs and k is not 'terms':\n"
     ]
    }
   ],
   "source": [
    "import math\n",
    "import torch\n",
    "import numpy as np\n",
    "\n",
    "from trust.learning.learn_trust import learn_ordergraph, learn_orderspn\n",
    "from trust.oracle.gadget_oracle import GadgetOracle\n",
    "from trust.oracle.dibs_oracle import DibsOracle\n",
    "from trust.oracle.enumeration_oracle import EnumerationOracle\n",
    "from trust.oracle.random_oracle import RandomOracle\n",
    "from trust.utils.generation import generate_linear_data, make_linear_model, make_erdosrenyi_graph\n",
    "from trust.learning.split_strategy import ThresholdStrategy\n",
    "from trust.utils.bge import BGe\n",
    "from trust.utils.metrics import auroc, mll, pairwise_linear_ce, pairwise_linear_ce_mse, pdag_shd\n",
    "from trust.leaf_scores.leaf_handler import LeafHandler\n",
    "from trust.orderspn.evidence import MarginalEvidence\n",
    "from trust.utils.misc import HiddenPrints\n",
    "\n",
    "from dibs.config.example import DiBSMarginalExampleSettings\n",
    "from sumu.gadget import Gadget"
   ]
  },
  {
   "cell_type": "markdown",
   "metadata": {
    "collapsed": false,
    "jupyter": {
     "outputs_hidden": false
    }
   },
   "source": [
    "### Problem Configuration"
   ]
  },
  {
   "cell_type": "code",
   "execution_count": null,
   "metadata": {
    "collapsed": false,
    "jupyter": {
     "outputs_hidden": false
    },
    "pycharm": {
     "name": "#%%\n"
    }
   },
   "outputs": [],
   "source": [
    "# BN Graph\n",
    "d = 8\n",
    "edges_per_node = 2 # Erdos-Renyi graph parameter\n",
    "\n",
    "# Data\n",
    "train_size = 100\n",
    "test_size = 1000\n",
    "weight_mean = 0.0 # mean edge weight for linear model\n",
    "\n",
    "# OrderSPN\n",
    "expansion_factors = [ 30, 6, 2]  # should be of length ceil(log_2(d))\n",
    "strong_oracle = \"gadget\"  # \"gadget\" or \"dibs\" or \"random\"\n",
    "weak_oracle = \"enumeration\"\n",
    "min_dimension = 5 # minimum dimension to use the strong oracle for\n",
    "\n",
    "learning_rate = 0.1\n",
    "epochs = 500\n",
    "\n",
    "# Misc\n",
    "num_candidate_parents = min(d - 1, 16)\n",
    "device = \"cuda\"  # or \"cpu\"\n",
    "total_time_budget = 300 # Increase or decrease depending on d, expansion_factors\n",
    "precomputation_ratio = 0.2\n",
    "\n",
    "seed = 2\n",
    "\n",
    "assert(len(expansion_factors) == math.ceil(math.log2(d)))"
   ]
  },
  {
   "cell_type": "markdown",
   "metadata": {
    "collapsed": false,
    "jupyter": {
     "outputs_hidden": false
    }
   },
   "source": [
    "### Generate Data"
   ]
  },
  {
   "cell_type": "code",
   "execution_count": 11,
   "metadata": {
    "collapsed": false,
    "jupyter": {
     "outputs_hidden": false
    },
    "pycharm": {
     "name": "#%%\n"
    }
   },
   "outputs": [
    {
     "name": "stdout",
     "output_type": "stream",
     "text": [
      "Ground truth weight matrix [[ 0.         -0.         -0.         -0.          0.          0.\n",
      "  -0.          0.          0.         -0.          0.         -0.\n",
      "  -0.         -0.          0.         -0.        ]\n",
      " [ 0.54528871 -0.          0.         -0.          0.          0.\n",
      "   0.          0.         -0.          0.          0.         -0.\n",
      "  -0.         -0.          0.          0.        ]\n",
      " [ 1.07834244  0.          0.          0.         -0.          0.\n",
      "  -0.         -0.          0.          1.80142086 -0.76446412 -1.07906046\n",
      "  -0.          0.         -0.          0.        ]\n",
      " [-0.          0.          0.         -0.          0.          0.\n",
      "   0.          0.          0.          0.         -0.         -0.\n",
      "   0.         -0.         -0.         -0.        ]\n",
      " [ 0.         -1.06633961 -0.         -0.          0.          0.\n",
      "   0.         -0.         -0.          0.         -0.         -1.25418666\n",
      "  -0.          0.          0.          0.        ]\n",
      " [-0.27655172 -0.          0.         -0.         -0.         -0.\n",
      "  -0.          0.          0.         -0.          0.         -0.66761995\n",
      "   0.         -0.         -0.          0.        ]\n",
      " [-0.         -0.         -0.         -0.82115995 -1.57007999 -0.26296961\n",
      "   0.          0.          0.64710273  0.          0.         -0.\n",
      "   0.         -0.          0.96847761 -0.        ]\n",
      " [ 0.         -0.          0.         -0.         -0.          0.\n",
      "   0.          0.         -0.74544339 -0.04336259 -0.          0.72477649\n",
      "   0.         -0.66775638 -0.         -0.53206533]\n",
      " [-0.         -0.         -0.          0.69095194  0.         -0.\n",
      "   0.         -0.          0.         -0.          0.         -0.93616215\n",
      "  -0.          0.         -0.          0.        ]\n",
      " [-1.56182412  0.         -0.          0.         -0.          0.\n",
      "  -0.          0.         -0.         -0.          0.         -0.\n",
      "   0.          0.          0.         -0.        ]\n",
      " [-0.         -0.80464611 -0.         -2.12182597  0.         -0.\n",
      "  -0.          0.          0.66791051  0.         -0.          0.\n",
      "   0.         -0.          0.          0.        ]\n",
      " [-0.          0.         -0.          0.          0.         -0.\n",
      "  -0.          0.         -0.          0.          0.         -0.\n",
      "   0.         -0.          0.          0.        ]\n",
      " [-0.         -0.          0.          0.          0.         -1.12067766\n",
      "   0.         -0.          0.50320486 -0.          0.         -0.\n",
      "   0.          0.         -0.         -0.        ]\n",
      " [-0.          1.29421163  0.          0.         -0.          0.\n",
      "   0.          0.         -0.          0.          0.         -0.\n",
      "   0.          0.         -0.         -0.        ]\n",
      " [ 0.          0.         -0.         -0.          0.         -0.\n",
      "  -0.          0.          0.          0.         -0.          0.\n",
      "  -0.          0.         -0.         -1.28560514]\n",
      " [-0.          0.          0.          0.15972366  0.         -0.\n",
      "  -0.         -0.         -0.          0.         -0.          0.\n",
      "  -0.         -0.         -0.         -0.        ]]\n"
     ]
    }
   ],
   "source": [
    "rng = np.random.default_rng(seed)\n",
    "G = make_erdosrenyi_graph(d=d, edges_per_node=edges_per_node)\n",
    "B = make_linear_model(G, rng, weight_mean=weight_mean)\n",
    "X_train = generate_linear_data(train_size, B, rng)\n",
    "X_test = generate_linear_data(test_size, B, rng)\n",
    "print('Ground truth weight matrix', B)"
   ]
  },
  {
   "cell_type": "markdown",
   "metadata": {
    "collapsed": false,
    "jupyter": {
     "outputs_hidden": false
    }
   },
   "source": [
    "### Precomputation of Leaf Scores"
   ]
  },
  {
   "cell_type": "code",
   "execution_count": 12,
   "metadata": {
    "collapsed": false,
    "jupyter": {
     "outputs_hidden": false
    },
    "pycharm": {
     "name": "#%%\n"
    }
   },
   "outputs": [
    {
     "name": "stdout",
     "output_type": "stream",
     "text": [
      "Number of candidate parent sets after pruning (unpruned 2^K = 32768):\n",
      "\n",
      "node\tpsets\tratio\n",
      "0\t31978\t0.975891\n",
      "1\t32733\t0.998932\n",
      "2\t32745\t0.999298\n",
      "3\t32526\t0.992615\n",
      "4\t32767\t0.999969\n",
      "5\t32528\t0.992676\n",
      "6\t32768\t1\n",
      "7\t32768\t1\n",
      "8\t32756\t0.999634\n",
      "9\t32317\t0.986237\n",
      "10\t32767\t0.999969\n",
      "11\t32751\t0.999481\n",
      "12\t32513\t0.992218\n",
      "13\t32656\t0.996582\n",
      "14\t32743\t0.999237\n",
      "15\t30398\t0.927673\n",
      "\n",
      "Number of score sums stored in cc cache: 0\n",
      "\n"
     ]
    }
   ],
   "source": [
    "with HiddenPrints():\n",
    "    candidates, score, score_array = Gadget(data=X_train, mcmc={\"n_dags\": 10000},run_mode={\"name\": \"budget\", \"params\": {\"t\": total_time_budget*precomputation_ratio}},cons={\"K\": num_candidate_parents}).return_cand_parents_and_score()"
   ]
  },
  {
   "cell_type": "markdown",
   "metadata": {
    "collapsed": false,
    "jupyter": {
     "outputs_hidden": false
    }
   },
   "source": [
    "### Precomputation of Max and Sum Score Arrays"
   ]
  },
  {
   "cell_type": "code",
   "execution_count": 13,
   "metadata": {
    "collapsed": false,
    "jupyter": {
     "outputs_hidden": false
    },
    "pycharm": {
     "name": "#%%\n"
    }
   },
   "outputs": [
    {
     "name": "stderr",
     "output_type": "stream",
     "text": [
      "100%|██████████████████████████| 16/16 [00:49<00:00,  3.06s/it]\n"
     ]
    }
   ],
   "source": [
    "lh = LeafHandler(C=candidates, c_r_score=score.c_r_score, c_c_score=score.c_c_score, score_array=score_array)\n",
    "lh.precompute_sum_and_max(log=True)"
   ]
  },
  {
   "cell_type": "markdown",
   "metadata": {
    "collapsed": false,
    "jupyter": {
     "outputs_hidden": false
    }
   },
   "source": [
    "### Set up Oracle(s) and Splitting Strategy"
   ]
  },
  {
   "cell_type": "code",
   "execution_count": 14,
   "metadata": {
    "collapsed": false,
    "jupyter": {
     "outputs_hidden": false
    },
    "pycharm": {
     "name": "#%%\n"
    }
   },
   "outputs": [
    {
     "name": "stdout",
     "output_type": "stream",
     "text": [
      "Number of candidate parent sets after pruning (unpruned 2^K = 32768):\n",
      "\n",
      "node\tpsets\tratio\n",
      "0\t31978\t0.975891\n",
      "1\t32733\t0.998932\n",
      "2\t32745\t0.999298\n",
      "3\t32526\t0.992615\n",
      "4\t32767\t0.999969\n",
      "5\t32528\t0.992676\n",
      "6\t32768\t1\n",
      "7\t32768\t1\n",
      "8\t32756\t0.999634\n",
      "9\t32317\t0.986237\n",
      "10\t32767\t0.999969\n",
      "11\t32751\t0.999481\n",
      "12\t32513\t0.992218\n",
      "13\t32656\t0.996582\n",
      "14\t32743\t0.999237\n",
      "15\t30398\t0.927673\n",
      "\n",
      "Number of score sums stored in cc cache: 0\n",
      "\n"
     ]
    }
   ],
   "source": [
    "with HiddenPrints():\n",
    "    if strong_oracle == \"gadget\":\n",
    "        strong_oracle = GadgetOracle(X_train, K=num_candidate_parents)\n",
    "    elif strong_oracle == \"dibs\":\n",
    "        strong_oracle = DibsOracle(G, B, X_train)\n",
    "    \n",
    "    if weak_oracle == \"enumeration\":\n",
    "        weak_oracle = EnumerationOracle()\n",
    "    elif weak_oracle == \"random\":\n",
    "        weak_oracle = RandomOracle()\n",
    "    \n",
    "    strategy = ThresholdStrategy(strong_oracle, weak_oracle, min_dimension=min_dimension)"
   ]
  },
  {
   "cell_type": "markdown",
   "metadata": {
    "collapsed": false,
    "jupyter": {
     "outputs_hidden": false
    }
   },
   "source": [
    "### Structure Learning"
   ]
  },
  {
   "cell_type": "markdown",
   "metadata": {},
   "source": [
    "Perform learning of the OrderSPN structure, using the chosen oracle methods."
   ]
  },
  {
   "cell_type": "code",
   "execution_count": 15,
   "metadata": {
    "collapsed": false,
    "jupyter": {
     "outputs_hidden": false
    },
    "pycharm": {
     "name": "#%%\n"
    }
   },
   "outputs": [
    {
     "name": "stdout",
     "output_type": "stream",
     "text": [
      "Layer 0\n"
     ]
    },
    {
     "name": "stderr",
     "output_type": "stream",
     "text": [
      "  0%|                                    | 0/1 [00:00<?, ?it/s]"
     ]
    },
    {
     "name": "stderr",
     "output_type": "stream",
     "text": [
      "100%|████████████████████████████| 1/1 [00:59<00:00, 59.54s/it]\n"
     ]
    },
    {
     "name": "stdout",
     "output_type": "stream",
     "text": [
      "Layer 1\n"
     ]
    },
    {
     "name": "stderr",
     "output_type": "stream",
     "text": [
      "100%|████████████████████████| 128/128 [00:58<00:00,  2.18it/s]\n"
     ]
    },
    {
     "name": "stdout",
     "output_type": "stream",
     "text": [
      "Layer 2\n"
     ]
    },
    {
     "name": "stderr",
     "output_type": "stream",
     "text": [
      "100%|███████████████████| 4096/4096 [00:00<00:00, 56313.96it/s]\n"
     ]
    },
    {
     "name": "stdout",
     "output_type": "stream",
     "text": [
      "Layer 3\n"
     ]
    },
    {
     "name": "stderr",
     "output_type": "stream",
     "text": [
      "100%|█████████████████| 49152/49152 [00:00<00:00, 66217.88it/s]\n"
     ]
    }
   ],
   "source": [
    "og = learn_ordergraph(d, strategy, expansion_factors, time_budget=total_time_budget*(1-precomputation_ratio), seed=seed,\n",
    "                      suppress_prints=True, log=True)"
   ]
  },
  {
   "cell_type": "markdown",
   "metadata": {
    "collapsed": false,
    "jupyter": {
     "outputs_hidden": false
    }
   },
   "source": [
    "### Parameter Learning"
   ]
  },
  {
   "cell_type": "markdown",
   "metadata": {},
   "source": [
    "Solve for the optimal parameters of the OrderSPN."
   ]
  },
  {
   "cell_type": "code",
   "execution_count": 18,
   "metadata": {
    "collapsed": false,
    "jupyter": {
     "outputs_hidden": false
    },
    "pycharm": {
     "name": "#%%\n"
    }
   },
   "outputs": [
    {
     "name": "stdout",
     "output_type": "stream",
     "text": [
      "-616.36017\n"
     ]
    }
   ],
   "source": [
    "ospn = learn_orderspn(og, device='cpu', leaf_function=lh)\n",
    "print(ospn.learn_spn())"
   ]
  },
  {
   "cell_type": "markdown",
   "metadata": {
    "collapsed": false,
    "jupyter": {
     "outputs_hidden": false
    }
   },
   "source": [
    "### Evaluation Metrics"
   ]
  },
  {
   "cell_type": "markdown",
   "metadata": {},
   "source": [
    "Compute evaluation metrics for the OrderSPN posterior."
   ]
  },
  {
   "cell_type": "code",
   "execution_count": 19,
   "metadata": {
    "collapsed": false,
    "jupyter": {
     "outputs_hidden": false
    },
    "pycharm": {
     "name": "#%%\n"
    }
   },
   "outputs": [
    {
     "name": "stdout",
     "output_type": "stream",
     "text": [
      "SHD |  27.9,\n",
      "AUROC|  0.97,\n",
      "MLL| -4753.2,\n",
      "CE_MSE| 0.10931,\n",
      "CE_MSE_exact| 0.14998,\n"
     ]
    }
   ],
   "source": [
    "G_samples = ospn.sample(10000, d)\n",
    "bge_model = BGe(d=d, alpha_u=1)\n",
    "\n",
    "# Compute expected SHD\n",
    "trust_shd = pdag_shd(np.copy(G_samples), np.copy(G))\n",
    "print(f'SHD |  {trust_shd:4.1f},')\n",
    "\n",
    "# Compute marginal edge probabilities\n",
    "marg_details = MarginalEvidence(d)\n",
    "pairwise_edge_probs = np.zeros((d, d))\n",
    "for j in range(d):\n",
    "    for i in range(d):\n",
    "        if (j != i) and (i not in marg_details[j]):\n",
    "            marg_details.add_node_evidence(j, i)\n",
    "            pairwise_edge_probs[i][j] = np.exp(ospn.marginal(marg_details).cpu().detach().numpy())\n",
    "            marg_details.remove_node_evidence(j, i)\n",
    "\n",
    "# Compute AUROC\n",
    "trust_auroc = auroc(pairwise_edge_probs, np.copy(G))\n",
    "print(f'AUROC| {trust_auroc:5.2f},')\n",
    "\n",
    "# Compute KL-divergence\n",
    "trust_kl = mll(np.copy(G_samples), X_test, bge_model)\n",
    "print(f'MLL| {trust_kl:4.1f},')\n",
    "\n",
    "# Compute BACE matrix; compare approximate (sampling-based) and exact methods\n",
    "approx_avg_pairwise_effects = pairwise_linear_ce(np.copy(G_samples), X_train, bge_model)\n",
    "exact_avg_pairwise_effects = ospn.bace(X_train, bge_model).cpu().detach().numpy()\n",
    "\n",
    "approx_trust_mse = pairwise_linear_ce_mse(approx_avg_pairwise_effects, B)\n",
    "print(f'CE_MSE| {approx_trust_mse:5.5f},')\n",
    "exact_trust_mse = pairwise_linear_ce_mse(exact_avg_pairwise_effects, B)\n",
    "print(f'CE_MSE_exact| {exact_trust_mse:5.5f},')\n",
    "\n",
    "\n",
    "\n",
    "\n",
    "\n"
   ]
  },
  {
   "cell_type": "markdown",
   "metadata": {
    "collapsed": false,
    "jupyter": {
     "outputs_hidden": false
    }
   },
   "source": [
    "### Example Queries"
   ]
  },
  {
   "cell_type": "markdown",
   "metadata": {},
   "source": [
    "A key feature of OrderSPNs is the ability to perform exact inference (i.e., without sampling) on the learned posterior distribution of graphs.\n",
    "\n",
    "In particular, we demonstrate here the following queries:\n",
    "- MPE $\\max_{G} p(G)$: Finding the most likely graph in the posterior distribution;\n",
    "- COND $p(G_{ij}|G_{kl})$: Finding the conditional probability of an edge, given the presence (or absence) of other edges;\n",
    "- BACE $\\mathbb{E}[ACE(i \\to j)]$: Computing the average causal effect of variable $X_i$ on $X_j$, averaged over the posterior distribution of causal graphs."
   ]
  },
  {
   "cell_type": "code",
   "execution_count": 20,
   "metadata": {
    "collapsed": false,
    "jupyter": {
     "outputs_hidden": false
    },
    "pycharm": {
     "name": "#%%\n"
    }
   },
   "outputs": [
    {
     "name": "stdout",
     "output_type": "stream",
     "text": [
      "Maximum a posterior graph:\n",
      "[[0. 0. 0. 0. 0. 0. 0. 0. 0. 0. 0. 0. 0. 0. 0. 0.]\n",
      " [1. 0. 0. 0. 0. 0. 0. 0. 0. 0. 0. 0. 0. 0. 0. 0.]\n",
      " [1. 0. 0. 0. 0. 0. 1. 0. 0. 1. 1. 1. 0. 0. 0. 0.]\n",
      " [0. 0. 0. 0. 0. 0. 0. 0. 0. 0. 0. 0. 0. 0. 0. 0.]\n",
      " [0. 1. 0. 0. 0. 0. 1. 0. 0. 0. 0. 1. 0. 0. 0. 0.]\n",
      " [0. 0. 0. 0. 0. 0. 0. 0. 0. 0. 0. 1. 0. 0. 0. 0.]\n",
      " [0. 0. 0. 1. 0. 1. 0. 0. 1. 0. 0. 0. 0. 0. 1. 0.]\n",
      " [0. 0. 0. 0. 0. 0. 0. 0. 1. 0. 0. 1. 0. 0. 0. 1.]\n",
      " [0. 0. 0. 1. 0. 0. 0. 0. 0. 0. 0. 1. 0. 0. 0. 0.]\n",
      " [1. 0. 0. 0. 0. 0. 0. 0. 0. 0. 0. 0. 0. 0. 0. 0.]\n",
      " [0. 1. 0. 1. 0. 0. 0. 0. 1. 0. 0. 0. 0. 0. 0. 0.]\n",
      " [0. 0. 0. 0. 0. 0. 0. 0. 0. 0. 0. 0. 0. 0. 0. 0.]\n",
      " [0. 0. 0. 0. 0. 1. 0. 0. 1. 0. 0. 0. 0. 0. 0. 0.]\n",
      " [0. 1. 0. 0. 0. 0. 0. 1. 0. 0. 0. 0. 0. 0. 0. 0.]\n",
      " [0. 0. 0. 0. 0. 0. 0. 0. 0. 0. 0. 0. 0. 0. 0. 1.]\n",
      " [0. 0. 0. 0. 0. 0. 0. 0. 0. 0. 0. 0. 0. 0. 0. 0.]]\n",
      "Conditional probability of edge 3->1 given edge 4->1:\n",
      "0.042344268411397934\n",
      "Conditional probability of edge 1->7 given edge 7->1 (should be exactly 0 as this is a cycle):\n",
      "0.0\n",
      "BACE matrix:\n",
      "[[ 1.00000000e+00  2.17599372e-05  2.02059653e-03 -4.94308770e-05\n",
      "   2.17304751e-05 -2.20502207e-05  1.88779049e-05 -2.15004138e-06\n",
      "  -1.26195984e-04 -1.58639904e-03  6.88841055e-08 -4.13291709e-04\n",
      "  -2.25852386e-06  1.81384650e-08 -1.09204411e-04  1.98719688e-04]\n",
      " [ 2.78066963e-01  9.99999940e-01  1.10773148e-03 -1.78249553e-03\n",
      "  -8.81421845e-03 -5.34710307e-05  5.75594458e-05 -3.05574722e-05\n",
      "  -2.08168625e-04 -4.47774888e-04 -2.81402554e-05  9.62955784e-03\n",
      "  -3.75061427e-06  2.53972175e-05  6.34353855e-05  1.22301688e-04]\n",
      " [-7.19447713e-03  2.14961898e-02  1.00000012e+00  2.00289302e-02\n",
      "   2.55385577e-03 -1.67018163e-03  8.65323469e-03 -9.64792707e-05\n",
      "  -3.24533395e-02  3.40023577e-01 -2.05528170e-01 -6.73880950e-02\n",
      "   4.12725640e-04 -6.59263460e-05  1.33313518e-02 -6.17494946e-03]\n",
      " [-1.33200292e-03 -6.74301432e-03  2.39796471e-04  9.99999940e-01\n",
      "   6.90840837e-03 -1.02597311e-04 -7.17495743e-04 -3.04930882e-06\n",
      "   2.26949323e-02  1.57785282e-04 -2.01581381e-04 -1.25631178e-02\n",
      "   1.87283206e-06  1.08087806e-05  2.10178958e-04 -3.73146977e-05]\n",
      " [-1.33109838e-01 -4.54394072e-01 -8.68713949e-04  1.31894909e-02\n",
      "   1.00000000e+00  2.31830869e-03 -3.13828625e-02 -4.10075649e-04\n",
      "  -1.00302882e-02  1.13990638e-04 -1.32512374e-04 -1.86034724e-01\n",
      "  -2.90278203e-05  5.06985409e-04 -1.36835417e-02  7.13309180e-03]\n",
      " [-1.23464502e-02 -2.82328501e-02 -3.31037823e-04 -8.86828080e-03\n",
      "   4.50060368e-02  9.99999940e-01 -4.93494049e-02  6.76170748e-06\n",
      "  -4.26916704e-02 -4.11494577e-04  3.92678048e-05 -5.08532897e-02\n",
      "  -5.85827418e-02 -6.12041331e-05 -8.83397064e-04 -2.55323551e-03]\n",
      " [ 9.03571993e-02  3.17975640e-01  3.71176144e-03 -1.47364568e-02\n",
      "  -5.39903343e-01 -4.93845418e-02  9.99999940e-01  4.81710973e-04\n",
      "   1.60681501e-01  4.33583045e-03 -1.52367121e-03  1.02929845e-01\n",
      "   8.73905839e-04 -1.29851876e-04  1.27253473e-01 -5.13133407e-02]\n",
      " [-4.32654924e-04 -7.67516019e-03 -7.17021583e-04 -4.43630666e-02\n",
      "  -2.09683981e-02  1.80500356e-04  4.57071327e-03  1.00000000e+00\n",
      "  -1.04736753e-01  1.28676335e-03 -1.43303908e-03  1.93162560e-02\n",
      "  -6.04796282e-04 -1.60216451e-01 -1.36050658e-04 -1.05698451e-01]\n",
      " [-1.09570625e-03 -3.99657665e-03 -1.76241156e-04  2.35628277e-01\n",
      "   5.48154057e-04 -5.70112374e-04  5.55411854e-04 -4.44143989e-05\n",
      "   9.99999940e-01  8.97061982e-05  2.40681198e-04 -2.17771724e-01\n",
      "   2.01432122e-05 -3.36527955e-06  5.30707941e-04  2.10554153e-03]\n",
      " [-7.45946392e-02  5.26535697e-03  7.26502761e-02  4.42435034e-03\n",
      "   7.51123880e-05 -5.45067480e-04  4.05358011e-03  3.27973657e-06\n",
      "  -9.12951212e-03  1.00000000e+00 -6.32298142e-02 -3.38484137e-03\n",
      "   2.34214440e-05 -3.82499362e-04  1.26590701e-02 -4.69624158e-03]\n",
      " [-1.27963834e-02 -7.42406622e-02 -6.49025366e-02 -4.56061438e-02\n",
      "  -9.59054288e-03  3.22765227e-05 -1.91883091e-03 -2.84630136e-04\n",
      "   1.36274755e-01 -9.26272050e-02  1.00000000e+00 -2.23067664e-02\n",
      "  -9.42759070e-05 -3.49121750e-04 -1.02678249e-02  5.97061729e-03]\n",
      " [-2.72615027e-04  1.23125606e-03 -1.81846608e-05 -1.24999171e-03\n",
      "  -5.67675806e-06 -3.58765419e-06  8.25847906e-08  2.72718335e-05\n",
      "  -4.00213350e-04 -6.58276404e-05 -9.24863889e-06  1.00000000e+00\n",
      "  -3.00052250e-07 -1.96458799e-07 -5.04544587e-05  5.28244309e-05]\n",
      " [-2.17658980e-03 -8.44486337e-03  5.11579739e-04  2.27833018e-02\n",
      "   1.04729421e-02 -2.71117181e-01 -6.69166399e-03 -3.63931671e-04\n",
      "   5.02168238e-02  3.86894593e-04 -9.21664119e-04 -2.87791889e-04\n",
      "   1.00000000e+00  2.62639776e-04  1.13807165e-03  7.86711276e-03]\n",
      " [ 1.22736879e-02  7.36363307e-02  1.45295833e-03  4.88444045e-03\n",
      "   1.78914927e-02 -2.64577597e-04  8.08921468e-04 -1.07980609e-01\n",
      "   1.13691082e-02 -4.22440795e-03 -5.93936711e-04 -3.66499019e-03\n",
      "   2.43482034e-04  1.00000000e+00 -5.24511852e-04  1.30038252e-02]\n",
      " [ 2.06772350e-02  7.75941014e-02  5.88810910e-03 -4.76974994e-03\n",
      "  -1.25190571e-01  1.97535218e-03  1.43652707e-01  9.39771271e-05\n",
      "   4.07332219e-02  1.82555970e-02 -8.60757101e-03  2.77933180e-02\n",
      "   3.24809545e-04 -7.41866650e-04  1.00000000e+00 -3.30862135e-01]\n",
      " [ 4.29478427e-03 -4.13756032e-04  8.11257341e-05  3.65446031e-04\n",
      "   1.92050776e-03 -6.32670592e-04 -4.06127772e-04 -8.78106730e-05\n",
      "   5.31502592e-04 -1.20024837e-03  4.83125972e-04 -1.22529187e-03\n",
      "   2.09612772e-05  5.11549042e-05 -8.07151722e-04  1.00000000e+00]]\n"
     ]
    }
   ],
   "source": [
    "# Most likely graph\n",
    "marg_details = MarginalEvidence(d)\n",
    "scc, scG = ospn.mpe(marg_details, d)\n",
    "print(\"Maximum a posterior graph:\")\n",
    "print(scG)\n",
    "\n",
    "# Marginal and Conditional probability:\n",
    "evidence1 = MarginalEvidence(d)\n",
    "evidence1.add_node_evidence(1, 4)\n",
    "evidence2 = MarginalEvidence(d)\n",
    "evidence2.add_node_evidence(1, 4)\n",
    "evidence2.add_node_evidence(1, 3)\n",
    "prob = torch.exp(ospn.conditional(evidence1, evidence2)).item()\n",
    "print(\"Conditional probability of edge 3->1 given edge 4->1:\")\n",
    "print(prob)\n",
    "\n",
    "evidence1 = MarginalEvidence(d)\n",
    "evidence1.add_node_evidence(1, 7)\n",
    "evidence2 = MarginalEvidence(d)\n",
    "evidence2.add_node_evidence(1, 7)\n",
    "evidence2.add_node_evidence(7, 1)\n",
    "prob = torch.exp(ospn.conditional(evidence1, evidence2)).item()\n",
    "print(\"Conditional probability of edge 1->7 given edge 7->1 (should be exactly 0 as this is a cycle):\")\n",
    "print(prob)\n",
    "\n",
    "# Bayesian averaged causal effect (BACE) matrix\n",
    "print(\"BACE matrix:\")\n",
    "print(exact_avg_pairwise_effects)"
   ]
  }
 ],
 "metadata": {
  "kernelspec": {
   "display_name": "Python 3 (ipykernel)",
   "language": "python",
   "name": "python3"
  },
  "language_info": {
   "codemirror_mode": {
    "name": "ipython",
    "version": 3
   },
   "file_extension": ".py",
   "mimetype": "text/x-python",
   "name": "python",
   "nbconvert_exporter": "python",
   "pygments_lexer": "ipython3",
   "version": "3.10.14"
  }
 },
 "nbformat": 4,
 "nbformat_minor": 4
}
